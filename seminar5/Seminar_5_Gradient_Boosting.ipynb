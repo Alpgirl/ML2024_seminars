{
 "cells": [
  {
   "cell_type": "markdown",
   "metadata": {
    "id": "VHc1eQ87cTXC"
   },
   "source": [
    "<a href=\"https://colab.research.google.com/github/adasegroup/ML2022_seminars/blob/master/seminar7/seminar_GB.ipynb\" target=\"_parent\"><img src=\"https://colab.research.google.com/assets/colab-badge.svg\" alt=\"Open In Colab\"/></a>"
   ]
  },
  {
   "cell_type": "markdown",
   "metadata": {
    "id": "8SBTW7jZcTXF"
   },
   "source": [
    "# Seminar: Gradient Boosting\n",
    "Course: Machine Learning by professor Evgeny Burnaev\n",
    "<br>\n",
    "Author: Alexander Marusov"
   ]
  },
  {
   "cell_type": "markdown",
   "metadata": {
    "id": "OrN8wNyS0vfy"
   },
   "source": [
    "### Main statements about Decision Trees, Bagging and Random Forests."
   ]
  },
  {
   "cell_type": "markdown",
   "metadata": {
    "id": "rIeG-wzk0we0"
   },
   "source": [
    "- **DECISION TREES**. \n",
    "With increasing the *max_depth* parameter the training loss of decision tree will be closer to zero, but test loss is high. This means, that our model has bad generalization capability and we have **overfitting**. Consequently, we need somehow to prevent overfitting. Of course we can choose the best *max_depth* parameter according to test, but it is not the only solution.\n",
    "\n",
    "- **BAGGING = DECISION TREE + BOOTSTRAP**. \n",
    "We can use several decision trees, which are trained on different train sets, which were received using bootstrap procedure. Bootsrapped dataset contains the same number of samples as original data but some of them are included with some number of their copies, and some of them are not included. To make a final prediction we will average predictions across decision trees. Since we will have different trees, the predictions will be more or less independent and, consequently, overfitting will be decreased.\n",
    "\n",
    "- **RANDOM FOREST = BAGGING + DIFFERENT FEATURES**.\n",
    "To increase generalization capability of the model (by making assumption about independency of trees stronger) we want to take not only different samples, but also different features as well. In Random Forest we have several decision trees, which are trained not only on different train samples, but also on different features as well."
   ]
  },
  {
   "cell_type": "markdown",
   "metadata": {
    "id": "i5up9az18J3Q"
   },
   "source": [
    "The main disadvantage of the ensembles above is that the learning process is undirected, i.e. decision trees don't know anything about mistakes of the others models. To eliminate this problem we will try the **Boosting** idea."
   ]
  },
  {
   "cell_type": "markdown",
   "metadata": {
    "id": "duezzdlyhUqS"
   },
   "source": [
    "### The problem statement\n"
   ]
  },
  {
   "cell_type": "markdown",
   "metadata": {
    "id": "_rZVv6TzdvZ4"
   },
   "source": [
    "The solution is found in the form of sum over random trees $h_m(x)$,\n",
    "$$F(x) = \\sum_{m=1}^{M} h_m(x).$$\n",
    "\n",
    "The additive model is built in a greedy fashion:\n",
    "$$f_m(x) = f_{m-1}(x) + h_m(x).$$\n",
    "\n",
    "Having loss function $L(y, f)$, we find every new tree from the optimization\n",
    "$$h_m =  \\arg\\min_{h} \\sum_{i=1}^{n} L(y_i, f_{m-1}(x_i) + h(x_i)).$$\n",
    "\n",
    "\n",
    "\n",
    "\n",
    "\n",
    "\n",
    "\n"
   ]
  },
  {
   "cell_type": "markdown",
   "metadata": {
    "id": "PblcHpTGhbqq"
   },
   "source": [
    "### How the problem is solved\n"
   ]
  },
  {
   "cell_type": "markdown",
   "metadata": {
    "id": "CQtiR57o027c"
   },
   "source": [
    "The initial model $f_0(x)$ is problem specific, for least-squares regression one usually chooses the mean of the target values."
   ]
  },
  {
   "cell_type": "markdown",
   "metadata": {
    "id": "bJY6lpLQiGLX"
   },
   "source": [
    "To solve the task above we should divide into two parts:\n",
    "\n",
    "- At the beggining we should find values $s_i$, which our random trees should have on the data $x_i$, i.e. $s_i = h(x_i)$. To solve this task we should find minimum of $F(s):$\n",
    "$$F(s) =  \\sum_{i=1}^{n} L(y_i, f_{m-1}(x_i) + s_i)).$$ Here $s = (s_1, s_2, ... , s_n)$. As we know from the math, the gradient of the function will show the direction of the highest increase of the function. Since we want to minimize the function, we should go in the direction, which is opposite to the gradient. This direction is also-called **antigradient**. Currently $s = (0, 0, ... , 0)$, because $$F(0) =  \\sum_{i=1}^{n} L(y_i, f_{m-1}(x_i)))$$ So we need to make a gradient step from fucntion $F$ in point $s = (0, 0, ... , 0)$. The gradient step is the next formula: $$s_{new} = s_{old} - \\nabla F(s)|_{s=s_{old}}$$ Since $s_{old} = (0, 0, ... , 0)$, the components of new vector $s$ should be: $$s_{new_i} = -\\frac{\\partial L(y_i, f_{m-1}(x_i))}{\\partial f_{m-1}(x_i)}.$$\n",
    "\n",
    "- After that we can find $h_m(x)$ just by solving usual supervised learning task with the data $(x_1, s_1), (x_2, s_2), ..., (x_n, s_n)$.\n",
    "\n",
    "\n",
    "Before the final step in some versions of Gradient Boosting you should find $$\\gamma_m = \\arg\\min_{\\gamma} \\sum_{i=1}^{n} L(y_i, f_{m-1}(x_i)\n",
    "- \\gamma \\frac{\\partial L(y_i, f_{m-1}(x_i))}{\\partial f_{m-1}(x_i)})$$ Finally, $$f_m(x) = f_{m-1}(x) + \\nu \\gamma_m h_m(x)$$\n",
    "\n",
    "\n",
    "\n",
    "Also there can be just simple sum $f_m(x) = f_{m-1}(x) + h_m(x)$"
   ]
  },
  {
   "cell_type": "code",
   "execution_count": 9,
   "metadata": {
    "id": "J-hogeRtcTXH"
   },
   "outputs": [],
   "source": [
    "import numpy as np\n",
    "import pandas as pd\n",
    "import matplotlib.pyplot as plt\n",
    "%matplotlib inline\n",
    "\n",
    "from sklearn.ensemble import GradientBoostingRegressor\n",
    "from sklearn.tree import DecisionTreeRegressor"
   ]
  },
  {
   "cell_type": "markdown",
   "metadata": {
    "id": "JJK1f9XDcTXb"
   },
   "source": [
    "## Gradient Boosting for classification."
   ]
  },
  {
   "cell_type": "markdown",
   "metadata": {
    "id": "Kvtbic5hdlRv"
   },
   "source": [
    "**Task:** We should predict probability that somebody will experience financial distress in the next two years given some characteristics. So we have **binary classification**. The target variable is **SeriousDlqin2yrs**\n",
    "\n",
    "The data was taken from https://www.kaggle.com/c/GiveMeSomeCredit\n",
    "\n",
    "The description of variables you can find also here https://www.kaggle.com/c/GiveMeSomeCredit"
   ]
  },
  {
   "cell_type": "markdown",
   "metadata": {
    "id": "pWIF7kjlyvat"
   },
   "source": [
    "### 1. EDA and Data preprocessing"
   ]
  },
  {
   "cell_type": "code",
   "execution_count": 10,
   "metadata": {
    "id": "Bu59fC0hcTXb"
   },
   "outputs": [],
   "source": [
    "rand_state = 123"
   ]
  },
  {
   "cell_type": "code",
   "execution_count": 11,
   "metadata": {
    "id": "q5GgDDSwylId"
   },
   "outputs": [],
   "source": [
    "df_train = pd.read_csv('https://raw.githubusercontent.com/adasegroup/ML2022_seminars/master/seminar5/give_me_some_credit.csv', index_col=0)"
   ]
  },
  {
   "cell_type": "code",
   "execution_count": 12,
   "metadata": {
    "id": "1ho6J-VHymmG"
   },
   "outputs": [],
   "source": [
    "df_kaggle_test = pd.read_csv('https://raw.githubusercontent.com/Astralex98/Give-me-some-credit-Kaggle-/main/cs-test.csv', index_col=0)"
   ]
  },
  {
   "cell_type": "code",
   "execution_count": 13,
   "metadata": {
    "colab": {
     "base_uri": "https://localhost:8080/"
    },
    "id": "3j22Lmt0yn2f",
    "outputId": "457a5390-d01a-4178-efd9-0fb191da023b"
   },
   "outputs": [
    {
     "name": "stdout",
     "output_type": "stream",
     "text": [
      "<class 'pandas.core.frame.DataFrame'>\n",
      "Int64Index: 101503 entries, 1 to 101503\n",
      "Data columns (total 11 columns):\n",
      " #   Column                                Non-Null Count   Dtype  \n",
      "---  ------                                --------------   -----  \n",
      " 0   SeriousDlqin2yrs                      0 non-null       float64\n",
      " 1   RevolvingUtilizationOfUnsecuredLines  101503 non-null  float64\n",
      " 2   age                                   101503 non-null  int64  \n",
      " 3   NumberOfTime30-59DaysPastDueNotWorse  101503 non-null  int64  \n",
      " 4   DebtRatio                             101503 non-null  float64\n",
      " 5   MonthlyIncome                         81400 non-null   float64\n",
      " 6   NumberOfOpenCreditLinesAndLoans       101503 non-null  int64  \n",
      " 7   NumberOfTimes90DaysLate               101503 non-null  int64  \n",
      " 8   NumberRealEstateLoansOrLines          101503 non-null  int64  \n",
      " 9   NumberOfTime60-89DaysPastDueNotWorse  101503 non-null  int64  \n",
      " 10  NumberOfDependents                    98877 non-null   float64\n",
      "dtypes: float64(5), int64(6)\n",
      "memory usage: 9.3 MB\n"
     ]
    }
   ],
   "source": [
    "df_kaggle_test.info()"
   ]
  },
  {
   "cell_type": "code",
   "execution_count": 14,
   "metadata": {
    "id": "kcrr7e-9ypva"
   },
   "outputs": [],
   "source": [
    "# There are no any labels in test, so we just remove this column\n",
    "df_kaggle_test = df_kaggle_test.drop(['SeriousDlqin2yrs'], axis=1)"
   ]
  },
  {
   "cell_type": "code",
   "execution_count": 15,
   "metadata": {
    "colab": {
     "base_uri": "https://localhost:8080/"
    },
    "id": "ndUn7b7Eyp07",
    "outputId": "90a07ede-1b49-4b75-9163-e5592f6a3d8d"
   },
   "outputs": [
    {
     "name": "stdout",
     "output_type": "stream",
     "text": [
      "<class 'pandas.core.frame.DataFrame'>\n",
      "Int64Index: 150000 entries, 1 to 150000\n",
      "Data columns (total 11 columns):\n",
      " #   Column                                Non-Null Count   Dtype  \n",
      "---  ------                                --------------   -----  \n",
      " 0   SeriousDlqin2yrs                      150000 non-null  int64  \n",
      " 1   RevolvingUtilizationOfUnsecuredLines  150000 non-null  float64\n",
      " 2   age                                   150000 non-null  int64  \n",
      " 3   NumberOfTime30-59DaysPastDueNotWorse  150000 non-null  int64  \n",
      " 4   DebtRatio                             150000 non-null  float64\n",
      " 5   MonthlyIncome                         120269 non-null  float64\n",
      " 6   NumberOfOpenCreditLinesAndLoans       150000 non-null  int64  \n",
      " 7   NumberOfTimes90DaysLate               150000 non-null  int64  \n",
      " 8   NumberRealEstateLoansOrLines          150000 non-null  int64  \n",
      " 9   NumberOfTime60-89DaysPastDueNotWorse  150000 non-null  int64  \n",
      " 10  NumberOfDependents                    146076 non-null  float64\n",
      "dtypes: float64(4), int64(7)\n",
      "memory usage: 13.7 MB\n"
     ]
    }
   ],
   "source": [
    "df_train.info()"
   ]
  },
  {
   "cell_type": "code",
   "execution_count": 16,
   "metadata": {
    "colab": {
     "base_uri": "https://localhost:8080/"
    },
    "id": "0EksNMIRyx8y",
    "outputId": "edc12c5b-4cf2-4246-918e-a6d25887768b"
   },
   "outputs": [
    {
     "data": {
      "text/plain": [
       "0    139974\n",
       "1     10026\n",
       "Name: SeriousDlqin2yrs, dtype: int64"
      ]
     },
     "execution_count": 16,
     "metadata": {},
     "output_type": "execute_result"
    }
   ],
   "source": [
    "# Check for imbalance\n",
    "df_train['SeriousDlqin2yrs'].value_counts()"
   ]
  },
  {
   "cell_type": "markdown",
   "metadata": {
    "id": "dCEUCxDKy0ef"
   },
   "source": [
    "**Summary of quick EDA:**\n",
    "\n",
    "1. There are some missing values\n",
    "\n",
    "2. Our classification task is highly imbalanced"
   ]
  },
  {
   "cell_type": "markdown",
   "metadata": {
    "id": "lktpqbZG5fjA"
   },
   "source": [
    "#### 1.1 Missing values"
   ]
  },
  {
   "cell_type": "markdown",
   "metadata": {
    "id": "LKm934315lgs"
   },
   "source": [
    "Since random forests can't deal with NaNs, we should somehow deal with them. More about strategies for dealing with missing values you can find [here](https://towardsdatascience.com/7-ways-to-handle-missing-values-in-machine-learning-1a6326adf79e)"
   ]
  },
  {
   "cell_type": "markdown",
   "metadata": {
    "id": "HoHmJdD75mZw"
   },
   "source": [
    "We can see, that features **MonthlyIncome** (20%) and **NumberOfDependents** (3%) have some missing values. From our intuition we can understand that **MonthlyIncome** is highly important feature for our task. Consequently, dropping those data-points could be a not a good idea. Now, for the sake of simplicity, we can just impute NaNs with means of corresponding features."
   ]
  },
  {
   "cell_type": "code",
   "execution_count": 22,
   "metadata": {
    "id": "oOItFg115i6D"
   },
   "outputs": [],
   "source": [
    "# Method to preprocess data\n",
    "def df_remove_nans(df):\n",
    "\n",
    "    # Deal with NaNs\n",
    "    df[\"MonthlyIncome\"] = df[\"MonthlyIncome\"].replace(np.NaN,  df[\"MonthlyIncome\"].mean())\n",
    "    df[\"NumberOfDependents\"] = df[\"NumberOfDependents\"].replace(np.NaN,  df[\"NumberOfDependents\"].mean())\n",
    "\n",
    "    # small check for NaNs\n",
    "    if ((df[\"MonthlyIncome\"].isnull().values.any() == True) or (df[\"NumberOfDependents\"].isnull().values.any())):\n",
    "        print(\"There are some NaNs here!\")\n",
    "        return None\n",
    "\n",
    "    return df"
   ]
  },
  {
   "cell_type": "code",
   "execution_count": 23,
   "metadata": {
    "id": "QxjOvfBXOkts"
   },
   "outputs": [],
   "source": [
    "# remove nans data\n",
    "df_train = df_remove_nans(df_train)\n",
    "X_kaggle_test = df_remove_nans(df_kaggle_test)"
   ]
  },
  {
   "cell_type": "markdown",
   "metadata": {
    "id": "vmvXcuMnP68m"
   },
   "source": [
    "### 2. Dividing data into train and test"
   ]
  },
  {
   "cell_type": "code",
   "execution_count": 28,
   "metadata": {
    "id": "3NTqYbSby9ZE"
   },
   "outputs": [],
   "source": [
    "from sklearn.model_selection import train_test_split"
   ]
  },
  {
   "cell_type": "code",
   "execution_count": 29,
   "metadata": {
    "id": "xpKELqV4zaIk"
   },
   "outputs": [],
   "source": [
    "X_train, X_test, y_train, y_test = train_test_split(df_train.drop(['SeriousDlqin2yrs'], axis=1), \n",
    "                                                    df_train['SeriousDlqin2yrs'], \n",
    "                                                    test_size = 0.3, \n",
    "                                                    random_state=rand_state, \n",
    "                                                    shuffle = True)"
   ]
  },
  {
   "cell_type": "code",
   "execution_count": 31,
   "metadata": {
    "id": "x6Q0BYFyy9b4"
   },
   "outputs": [],
   "source": [
    " # use only each 10th sample to save time\n",
    "X_train = X_train.iloc[::10, :]\n",
    "y_train = y_train.iloc[::10]"
   ]
  },
  {
   "cell_type": "code",
   "execution_count": 32,
   "metadata": {
    "id": "4ym7xpE-y9es"
   },
   "outputs": [],
   "source": [
    "n_features = X_train.shape[1]"
   ]
  },
  {
   "cell_type": "markdown",
   "metadata": {
    "id": "e0TdHHjnzelG"
   },
   "source": [
    "### 3. Training"
   ]
  },
  {
   "cell_type": "code",
   "execution_count": 33,
   "metadata": {
    "id": "pZgKepRf42UE"
   },
   "outputs": [],
   "source": [
    "from sklearn.model_selection import RandomizedSearchCV\n",
    "from sklearn.metrics import roc_curve, roc_auc_score"
   ]
  },
  {
   "cell_type": "code",
   "execution_count": 34,
   "metadata": {
    "id": "JWBZAm7kzn5e"
   },
   "outputs": [],
   "source": [
    "from sklearn.ensemble import GradientBoostingClassifier"
   ]
  },
  {
   "cell_type": "code",
   "execution_count": 35,
   "metadata": {
    "id": "xxGT8fADzkcG"
   },
   "outputs": [],
   "source": [
    "clf = GradientBoostingClassifier(random_state=rand_state)"
   ]
  },
  {
   "cell_type": "code",
   "execution_count": 36,
   "metadata": {
    "id": "V1fwTQoY0fnX"
   },
   "outputs": [],
   "source": [
    "param_grid = {'n_estimators' : [20, 30, 40],\n",
    "              'max_depth': [2, 5, 7, 9],\n",
    "              'max_features': ['log2', 'sqrt', n_features],\n",
    "              'learning_rate': [0.05, 0.075, 0.1, 0.25, 0.5, 0.75, 1]}"
   ]
  },
  {
   "cell_type": "code",
   "execution_count": 37,
   "metadata": {
    "id": "sdpy7CX-zgxe"
   },
   "outputs": [],
   "source": [
    "clf = RandomizedSearchCV(clf, param_grid, cv=5, scoring='roc_auc', n_iter = 10, random_state = rand_state)"
   ]
  },
  {
   "cell_type": "code",
   "execution_count": 38,
   "metadata": {
    "colab": {
     "base_uri": "https://localhost:8080/",
     "height": 154
    },
    "id": "yBijqInV1JSU",
    "outputId": "e6028379-b8ad-4ab4-ba37-7964024e34d7"
   },
   "outputs": [
    {
     "name": "stdout",
     "output_type": "stream",
     "text": [
      "CPU times: user 2.52 s, sys: 20.5 ms, total: 2.55 s\n",
      "Wall time: 2.54 s\n"
     ]
    },
    {
     "data": {
      "text/html": [
       "<style>#sk-container-id-1 {color: black;background-color: white;}#sk-container-id-1 pre{padding: 0;}#sk-container-id-1 div.sk-toggleable {background-color: white;}#sk-container-id-1 label.sk-toggleable__label {cursor: pointer;display: block;width: 100%;margin-bottom: 0;padding: 0.3em;box-sizing: border-box;text-align: center;}#sk-container-id-1 label.sk-toggleable__label-arrow:before {content: \"▸\";float: left;margin-right: 0.25em;color: #696969;}#sk-container-id-1 label.sk-toggleable__label-arrow:hover:before {color: black;}#sk-container-id-1 div.sk-estimator:hover label.sk-toggleable__label-arrow:before {color: black;}#sk-container-id-1 div.sk-toggleable__content {max-height: 0;max-width: 0;overflow: hidden;text-align: left;background-color: #f0f8ff;}#sk-container-id-1 div.sk-toggleable__content pre {margin: 0.2em;color: black;border-radius: 0.25em;background-color: #f0f8ff;}#sk-container-id-1 input.sk-toggleable__control:checked~div.sk-toggleable__content {max-height: 200px;max-width: 100%;overflow: auto;}#sk-container-id-1 input.sk-toggleable__control:checked~label.sk-toggleable__label-arrow:before {content: \"▾\";}#sk-container-id-1 div.sk-estimator input.sk-toggleable__control:checked~label.sk-toggleable__label {background-color: #d4ebff;}#sk-container-id-1 div.sk-label input.sk-toggleable__control:checked~label.sk-toggleable__label {background-color: #d4ebff;}#sk-container-id-1 input.sk-hidden--visually {border: 0;clip: rect(1px 1px 1px 1px);clip: rect(1px, 1px, 1px, 1px);height: 1px;margin: -1px;overflow: hidden;padding: 0;position: absolute;width: 1px;}#sk-container-id-1 div.sk-estimator {font-family: monospace;background-color: #f0f8ff;border: 1px dotted black;border-radius: 0.25em;box-sizing: border-box;margin-bottom: 0.5em;}#sk-container-id-1 div.sk-estimator:hover {background-color: #d4ebff;}#sk-container-id-1 div.sk-parallel-item::after {content: \"\";width: 100%;border-bottom: 1px solid gray;flex-grow: 1;}#sk-container-id-1 div.sk-label:hover label.sk-toggleable__label {background-color: #d4ebff;}#sk-container-id-1 div.sk-serial::before {content: \"\";position: absolute;border-left: 1px solid gray;box-sizing: border-box;top: 0;bottom: 0;left: 50%;z-index: 0;}#sk-container-id-1 div.sk-serial {display: flex;flex-direction: column;align-items: center;background-color: white;padding-right: 0.2em;padding-left: 0.2em;position: relative;}#sk-container-id-1 div.sk-item {position: relative;z-index: 1;}#sk-container-id-1 div.sk-parallel {display: flex;align-items: stretch;justify-content: center;background-color: white;position: relative;}#sk-container-id-1 div.sk-item::before, #sk-container-id-1 div.sk-parallel-item::before {content: \"\";position: absolute;border-left: 1px solid gray;box-sizing: border-box;top: 0;bottom: 0;left: 50%;z-index: -1;}#sk-container-id-1 div.sk-parallel-item {display: flex;flex-direction: column;z-index: 1;position: relative;background-color: white;}#sk-container-id-1 div.sk-parallel-item:first-child::after {align-self: flex-end;width: 50%;}#sk-container-id-1 div.sk-parallel-item:last-child::after {align-self: flex-start;width: 50%;}#sk-container-id-1 div.sk-parallel-item:only-child::after {width: 0;}#sk-container-id-1 div.sk-dashed-wrapped {border: 1px dashed gray;margin: 0 0.4em 0.5em 0.4em;box-sizing: border-box;padding-bottom: 0.4em;background-color: white;}#sk-container-id-1 div.sk-label label {font-family: monospace;font-weight: bold;display: inline-block;line-height: 1.2em;}#sk-container-id-1 div.sk-label-container {text-align: center;}#sk-container-id-1 div.sk-container {/* jupyter's `normalize.less` sets `[hidden] { display: none; }` but bootstrap.min.css set `[hidden] { display: none !important; }` so we also need the `!important` here to be able to override the default hidden behavior on the sphinx rendered scikit-learn.org. See: https://github.com/scikit-learn/scikit-learn/issues/21755 */display: inline-block !important;position: relative;}#sk-container-id-1 div.sk-text-repr-fallback {display: none;}</style><div id=\"sk-container-id-1\" class=\"sk-top-container\"><div class=\"sk-text-repr-fallback\"><pre>RandomizedSearchCV(cv=5, estimator=GradientBoostingClassifier(random_state=123),\n",
       "                   param_distributions={&#x27;learning_rate&#x27;: [0.05, 0.075, 0.1,\n",
       "                                                          0.25, 0.5, 0.75, 1],\n",
       "                                        &#x27;max_depth&#x27;: [2, 5, 7, 9],\n",
       "                                        &#x27;max_features&#x27;: [&#x27;log2&#x27;, &#x27;sqrt&#x27;, 10],\n",
       "                                        &#x27;n_estimators&#x27;: [20, 30, 40]},\n",
       "                   random_state=123, scoring=&#x27;roc_auc&#x27;)</pre><b>In a Jupyter environment, please rerun this cell to show the HTML representation or trust the notebook. <br />On GitHub, the HTML representation is unable to render, please try loading this page with nbviewer.org.</b></div><div class=\"sk-container\" hidden><div class=\"sk-item sk-dashed-wrapped\"><div class=\"sk-label-container\"><div class=\"sk-label sk-toggleable\"><input class=\"sk-toggleable__control sk-hidden--visually\" id=\"sk-estimator-id-1\" type=\"checkbox\" ><label for=\"sk-estimator-id-1\" class=\"sk-toggleable__label sk-toggleable__label-arrow\">RandomizedSearchCV</label><div class=\"sk-toggleable__content\"><pre>RandomizedSearchCV(cv=5, estimator=GradientBoostingClassifier(random_state=123),\n",
       "                   param_distributions={&#x27;learning_rate&#x27;: [0.05, 0.075, 0.1,\n",
       "                                                          0.25, 0.5, 0.75, 1],\n",
       "                                        &#x27;max_depth&#x27;: [2, 5, 7, 9],\n",
       "                                        &#x27;max_features&#x27;: [&#x27;log2&#x27;, &#x27;sqrt&#x27;, 10],\n",
       "                                        &#x27;n_estimators&#x27;: [20, 30, 40]},\n",
       "                   random_state=123, scoring=&#x27;roc_auc&#x27;)</pre></div></div></div><div class=\"sk-parallel\"><div class=\"sk-parallel-item\"><div class=\"sk-item\"><div class=\"sk-label-container\"><div class=\"sk-label sk-toggleable\"><input class=\"sk-toggleable__control sk-hidden--visually\" id=\"sk-estimator-id-2\" type=\"checkbox\" ><label for=\"sk-estimator-id-2\" class=\"sk-toggleable__label sk-toggleable__label-arrow\">estimator: GradientBoostingClassifier</label><div class=\"sk-toggleable__content\"><pre>GradientBoostingClassifier(random_state=123)</pre></div></div></div><div class=\"sk-serial\"><div class=\"sk-item\"><div class=\"sk-estimator sk-toggleable\"><input class=\"sk-toggleable__control sk-hidden--visually\" id=\"sk-estimator-id-3\" type=\"checkbox\" ><label for=\"sk-estimator-id-3\" class=\"sk-toggleable__label sk-toggleable__label-arrow\">GradientBoostingClassifier</label><div class=\"sk-toggleable__content\"><pre>GradientBoostingClassifier(random_state=123)</pre></div></div></div></div></div></div></div></div></div></div>"
      ],
      "text/plain": [
       "RandomizedSearchCV(cv=5, estimator=GradientBoostingClassifier(random_state=123),\n",
       "                   param_distributions={'learning_rate': [0.05, 0.075, 0.1,\n",
       "                                                          0.25, 0.5, 0.75, 1],\n",
       "                                        'max_depth': [2, 5, 7, 9],\n",
       "                                        'max_features': ['log2', 'sqrt', 10],\n",
       "                                        'n_estimators': [20, 30, 40]},\n",
       "                   random_state=123, scoring='roc_auc')"
      ]
     },
     "execution_count": 38,
     "metadata": {},
     "output_type": "execute_result"
    }
   ],
   "source": [
    "%%time\n",
    "clf.fit(X_train, y_train)"
   ]
  },
  {
   "cell_type": "markdown",
   "metadata": {
    "id": "E3AFOwp-reQI"
   },
   "source": [
    "### 4. Feature importance and feature selection"
   ]
  },
  {
   "cell_type": "markdown",
   "metadata": {
    "id": "0u5jlADj_Uup"
   },
   "source": [
    "**1. Feature selection**\n",
    "\n",
    "We try to find the most important features.\n",
    "\n",
    "**2. Dimensionality reduction**\n",
    "\n",
    "We have a lot of useful features and for some reasons we want to reduce the number of used features.\n",
    "\n",
    "**3. Feature generation**\n",
    "\n",
    "We want to create a feature description for an object (e.g. image).\n",
    "Earlier scientists used some handcrafted features (e.g. HoG). Now neural networks create features automatically.\n",
    "\n"
   ]
  },
  {
   "cell_type": "code",
   "execution_count": 39,
   "metadata": {
    "id": "_-Df2f-Qt2MG"
   },
   "outputs": [],
   "source": [
    "from sklearn.feature_selection import SelectFromModel"
   ]
  },
  {
   "cell_type": "code",
   "execution_count": 40,
   "metadata": {
    "id": "yPca5X19rmxD"
   },
   "outputs": [],
   "source": [
    "# Fit model using each importance as a threshold\n",
    "model = clf.best_estimator_\n",
    "\n",
    "# Weights of each feature are thresholds\n",
    "thresholds = sorted(model.feature_importances_)"
   ]
  },
  {
   "cell_type": "code",
   "execution_count": 41,
   "metadata": {
    "id": "i4_MpqTp7HXG"
   },
   "outputs": [],
   "source": [
    "# Here we collect the auc score for corresponding set of features, whos importance\n",
    "# is higher than a current threshold\n",
    "aucs_list = []"
   ]
  },
  {
   "cell_type": "code",
   "execution_count": 42,
   "metadata": {
    "colab": {
     "base_uri": "https://localhost:8080/"
    },
    "id": "uxQfU5Rgrm2m",
    "outputId": "30e9c185-af62-43db-cc46-3406b72836b8",
    "scrolled": false
   },
   "outputs": [
    {
     "name": "stderr",
     "output_type": "stream",
     "text": [
      "/Users/polina/miniforge3/lib/python3.10/site-packages/sklearn/base.py:443: UserWarning: X has feature names, but SelectFromModel was fitted without feature names\n",
      "  warnings.warn(\n",
      "/Users/polina/miniforge3/lib/python3.10/site-packages/sklearn/base.py:443: UserWarning: X has feature names, but SelectFromModel was fitted without feature names\n",
      "  warnings.warn(\n",
      "/Users/polina/miniforge3/lib/python3.10/site-packages/sklearn/base.py:443: UserWarning: X has feature names, but SelectFromModel was fitted without feature names\n",
      "  warnings.warn(\n",
      "/Users/polina/miniforge3/lib/python3.10/site-packages/sklearn/base.py:443: UserWarning: X has feature names, but SelectFromModel was fitted without feature names\n",
      "  warnings.warn(\n",
      "/Users/polina/miniforge3/lib/python3.10/site-packages/sklearn/base.py:443: UserWarning: X has feature names, but SelectFromModel was fitted without feature names\n",
      "  warnings.warn(\n",
      "/Users/polina/miniforge3/lib/python3.10/site-packages/sklearn/base.py:443: UserWarning: X has feature names, but SelectFromModel was fitted without feature names\n",
      "  warnings.warn(\n",
      "/Users/polina/miniforge3/lib/python3.10/site-packages/sklearn/base.py:443: UserWarning: X has feature names, but SelectFromModel was fitted without feature names\n",
      "  warnings.warn(\n",
      "/Users/polina/miniforge3/lib/python3.10/site-packages/sklearn/base.py:443: UserWarning: X has feature names, but SelectFromModel was fitted without feature names\n",
      "  warnings.warn(\n",
      "/Users/polina/miniforge3/lib/python3.10/site-packages/sklearn/base.py:443: UserWarning: X has feature names, but SelectFromModel was fitted without feature names\n",
      "  warnings.warn(\n",
      "/Users/polina/miniforge3/lib/python3.10/site-packages/sklearn/base.py:443: UserWarning: X has feature names, but SelectFromModel was fitted without feature names\n",
      "  warnings.warn(\n",
      "/Users/polina/miniforge3/lib/python3.10/site-packages/sklearn/base.py:443: UserWarning: X has feature names, but SelectFromModel was fitted without feature names\n",
      "  warnings.warn(\n",
      "/Users/polina/miniforge3/lib/python3.10/site-packages/sklearn/base.py:443: UserWarning: X has feature names, but SelectFromModel was fitted without feature names\n",
      "  warnings.warn(\n",
      "/Users/polina/miniforge3/lib/python3.10/site-packages/sklearn/base.py:443: UserWarning: X has feature names, but SelectFromModel was fitted without feature names\n",
      "  warnings.warn(\n",
      "/Users/polina/miniforge3/lib/python3.10/site-packages/sklearn/base.py:443: UserWarning: X has feature names, but SelectFromModel was fitted without feature names\n",
      "  warnings.warn(\n",
      "/Users/polina/miniforge3/lib/python3.10/site-packages/sklearn/base.py:443: UserWarning: X has feature names, but SelectFromModel was fitted without feature names\n",
      "  warnings.warn(\n",
      "/Users/polina/miniforge3/lib/python3.10/site-packages/sklearn/base.py:443: UserWarning: X has feature names, but SelectFromModel was fitted without feature names\n",
      "  warnings.warn(\n"
     ]
    },
    {
     "name": "stdout",
     "output_type": "stream",
     "text": [
      "CPU times: user 1.1 s, sys: 13.1 ms, total: 1.12 s\n",
      "Wall time: 1.12 s\n"
     ]
    },
    {
     "name": "stderr",
     "output_type": "stream",
     "text": [
      "/Users/polina/miniforge3/lib/python3.10/site-packages/sklearn/base.py:443: UserWarning: X has feature names, but SelectFromModel was fitted without feature names\n",
      "  warnings.warn(\n",
      "/Users/polina/miniforge3/lib/python3.10/site-packages/sklearn/base.py:443: UserWarning: X has feature names, but SelectFromModel was fitted without feature names\n",
      "  warnings.warn(\n",
      "/Users/polina/miniforge3/lib/python3.10/site-packages/sklearn/base.py:443: UserWarning: X has feature names, but SelectFromModel was fitted without feature names\n",
      "  warnings.warn(\n",
      "/Users/polina/miniforge3/lib/python3.10/site-packages/sklearn/base.py:443: UserWarning: X has feature names, but SelectFromModel was fitted without feature names\n",
      "  warnings.warn(\n"
     ]
    }
   ],
   "source": [
    "%%time\n",
    "for thresh in thresholds:\n",
    "    # select features using threshold\n",
    "    selection = SelectFromModel(model, threshold=thresh, prefit=True)\n",
    "    select_X_train = selection.transform(X_train)\n",
    "\n",
    "    # train model\n",
    "    new_clf = GradientBoostingClassifier(random_state=rand_state)\n",
    "    new_clf.fit(select_X_train, y_train)\n",
    "\n",
    "    # eval model\n",
    "    select_X_test = selection.transform(X_test)\n",
    "    y_predict_proba = new_clf.predict_proba(select_X_test)\n",
    "    roc_auc = roc_auc_score(y_test, y_predict_proba[:, 1])\n",
    "    aucs_list.append((thresh, select_X_train.shape[1], roc_auc))"
   ]
  },
  {
   "cell_type": "code",
   "execution_count": 44,
   "metadata": {
    "colab": {
     "base_uri": "https://localhost:8080/"
    },
    "id": "y16zFeZZtvq0",
    "outputId": "b6f50ba0-1f2c-4c35-d4cc-62f31852791c"
   },
   "outputs": [
    {
     "name": "stdout",
     "output_type": "stream",
     "text": [
      "Thresh=0.044, n=10, AUC: 0.83961\n",
      "Thresh=0.049, n=9, AUC: 0.83624\n",
      "Thresh=0.085, n=8, AUC: 0.83761\n",
      "Thresh=0.086, n=7, AUC: 0.82230\n",
      "Thresh=0.087, n=6, AUC: 0.82058\n",
      "Thresh=0.095, n=5, AUC: 0.81960\n",
      "Thresh=0.116, n=4, AUC: 0.80752\n",
      "Thresh=0.123, n=3, AUC: 0.79275\n",
      "Thresh=0.124, n=2, AUC: 0.80623\n",
      "Thresh=0.191, n=1, AUC: 0.75015\n"
     ]
    }
   ],
   "source": [
    "for elem in aucs_list:\n",
    "    thresh, num_features, roc_auc = elem\n",
    "    print(\"Thresh=%.3f, n=%d, AUC: %.5f\" % (thresh, num_features, roc_auc))"
   ]
  },
  {
   "cell_type": "markdown",
   "metadata": {
    "id": "W_IoY7ur-jeh"
   },
   "source": [
    "You can see, that if we will use even 2 features the final AUC will be only on 0.04 worser than if we take 10 features. In current task we have not much features, consequently, we don't need to reduce number of features. But in some cases there could be too much features and you will need to select from them the most important ones."
   ]
  },
  {
   "cell_type": "markdown",
   "metadata": {
    "id": "U3uZMcl01Ss2"
   },
   "source": [
    "### 5. Evaluating"
   ]
  },
  {
   "cell_type": "code",
   "execution_count": 45,
   "metadata": {
    "id": "ct73Wi9Q1JVG"
   },
   "outputs": [],
   "source": [
    "def plot_roc_curve(clf, x, y):\n",
    "    plt.figure(figsize=[9, 6])\n",
    "    fpr, tpr, _ = roc_curve(y, clf.predict_proba(x)[:, 1])\n",
    "    plt.plot(fpr, tpr, 'r', label='train')\n",
    "    plt.title('ROC curve')\n",
    "    plt.xlabel('False positive rate')\n",
    "    plt.ylabel('True positive rate')\n",
    "    plt.show()"
   ]
  },
  {
   "cell_type": "code",
   "execution_count": 46,
   "metadata": {
    "colab": {
     "base_uri": "https://localhost:8080/"
    },
    "id": "jS_BCyagWguc",
    "outputId": "fa806fb6-3e34-49b1-a5aa-9ebc7a6e8ce2"
   },
   "outputs": [
    {
     "name": "stdout",
     "output_type": "stream",
     "text": [
      "Random search with roc_auc\n",
      "Best parameters: {'n_estimators': 40, 'max_features': 'log2', 'max_depth': 7, 'learning_rate': 0.05}\n",
      "Best cross-validation score (auc_roc)): 0.835\n",
      "Test set AUC: 0.837\n"
     ]
    }
   ],
   "source": [
    "print(\"Random search with roc_auc\")\n",
    "print(\"Best parameters:\", clf.best_params_)\n",
    "print(\"Best cross-validation score (auc_roc)): {:.3f}\".format(clf.best_score_))\n",
    "print(\"Test set AUC: {:.3f}\".format(roc_auc_score(y_test, clf.predict_proba(X_test)[:, 1])))"
   ]
  },
  {
   "cell_type": "code",
   "execution_count": 47,
   "metadata": {
    "colab": {
     "base_uri": "https://localhost:8080/",
     "height": 564
    },
    "id": "CzrDV0OA1VTK",
    "outputId": "bb730a6f-00b7-4e90-c57b-545fac2c33d5"
   },
   "outputs": [
    {
     "data": {
      "image/png": "[encoded data removed]",
      "text/plain": [
       "<Figure size 900x600 with 1 Axes>"
      ]
     },
     "metadata": {},
     "output_type": "display_data"
    }
   ],
   "source": [
    "plot_roc_curve(clf, X_test, y_test)"
   ]
  },
  {
   "cell_type": "markdown",
   "metadata": {
    "id": "3rgzPtxs1YPe"
   },
   "source": [
    "### 5. Create submission to Kaggle"
   ]
  },
  {
   "cell_type": "code",
   "execution_count": 48,
   "metadata": {
    "id": "DeY9cnta1WeC"
   },
   "outputs": [],
   "source": [
    "predictions = clf.predict_proba(X_kaggle_test)[:, 1]"
   ]
  },
  {
   "cell_type": "code",
   "execution_count": 49,
   "metadata": {
    "colab": {
     "base_uri": "https://localhost:8080/"
    },
    "id": "6yPV9t431alu",
    "outputId": "48c6f365-b1f2-44cb-9987-07cf75df864a"
   },
   "outputs": [
    {
     "data": {
      "text/plain": [
       "(101503,)"
      ]
     },
     "execution_count": 49,
     "metadata": {},
     "output_type": "execute_result"
    }
   ],
   "source": [
    "predictions.shape"
   ]
  },
  {
   "cell_type": "code",
   "execution_count": 50,
   "metadata": {
    "colab": {
     "base_uri": "https://localhost:8080/",
     "height": 424
    },
    "id": "PVL42n8l1bgp",
    "outputId": "d1bd34b6-65d2-46d8-b14e-e72d4eebb448"
   },
   "outputs": [
    {
     "data": {
      "text/html": [
       "<div>\n",
       "<style scoped>\n",
       "    .dataframe tbody tr th:only-of-type {\n",
       "        vertical-align: middle;\n",
       "    }\n",
       "\n",
       "    .dataframe tbody tr th {\n",
       "        vertical-align: top;\n",
       "    }\n",
       "\n",
       "    .dataframe thead th {\n",
       "        text-align: right;\n",
       "    }\n",
       "</style>\n",
       "<table border=\"1\" class=\"dataframe\">\n",
       "  <thead>\n",
       "    <tr style=\"text-align: right;\">\n",
       "      <th></th>\n",
       "      <th>Id</th>\n",
       "      <th>Probability</th>\n",
       "    </tr>\n",
       "  </thead>\n",
       "  <tbody>\n",
       "    <tr>\n",
       "      <th>0</th>\n",
       "      <td>1</td>\n",
       "      <td>0.061130</td>\n",
       "    </tr>\n",
       "    <tr>\n",
       "      <th>1</th>\n",
       "      <td>2</td>\n",
       "      <td>0.020962</td>\n",
       "    </tr>\n",
       "    <tr>\n",
       "      <th>2</th>\n",
       "      <td>3</td>\n",
       "      <td>0.032693</td>\n",
       "    </tr>\n",
       "    <tr>\n",
       "      <th>3</th>\n",
       "      <td>4</td>\n",
       "      <td>0.066660</td>\n",
       "    </tr>\n",
       "    <tr>\n",
       "      <th>4</th>\n",
       "      <td>5</td>\n",
       "      <td>0.076080</td>\n",
       "    </tr>\n",
       "    <tr>\n",
       "      <th>...</th>\n",
       "      <td>...</td>\n",
       "      <td>...</td>\n",
       "    </tr>\n",
       "    <tr>\n",
       "      <th>101498</th>\n",
       "      <td>101499</td>\n",
       "      <td>0.020769</td>\n",
       "    </tr>\n",
       "    <tr>\n",
       "      <th>101499</th>\n",
       "      <td>101500</td>\n",
       "      <td>0.182649</td>\n",
       "    </tr>\n",
       "    <tr>\n",
       "      <th>101500</th>\n",
       "      <td>101501</td>\n",
       "      <td>0.017479</td>\n",
       "    </tr>\n",
       "    <tr>\n",
       "      <th>101501</th>\n",
       "      <td>101502</td>\n",
       "      <td>0.282562</td>\n",
       "    </tr>\n",
       "    <tr>\n",
       "      <th>101502</th>\n",
       "      <td>101503</td>\n",
       "      <td>0.030375</td>\n",
       "    </tr>\n",
       "  </tbody>\n",
       "</table>\n",
       "<p>101503 rows × 2 columns</p>\n",
       "</div>"
      ],
      "text/plain": [
       "            Id  Probability\n",
       "0            1     0.061130\n",
       "1            2     0.020962\n",
       "2            3     0.032693\n",
       "3            4     0.066660\n",
       "4            5     0.076080\n",
       "...        ...          ...\n",
       "101498  101499     0.020769\n",
       "101499  101500     0.182649\n",
       "101500  101501     0.017479\n",
       "101501  101502     0.282562\n",
       "101502  101503     0.030375\n",
       "\n",
       "[101503 rows x 2 columns]"
      ]
     },
     "execution_count": 50,
     "metadata": {},
     "output_type": "execute_result"
    }
   ],
   "source": [
    "# Save the predictions to a CSV file\n",
    "sub = pd.read_csv('https://raw.githubusercontent.com/Astralex98/Give-me-some-credit-Kaggle-/main/sampleEntry.csv')\n",
    "sub['Probability']=predictions\n",
    "sub.to_csv('MyGBSubmission.csv', index=False)\n",
    "sub"
   ]
  },
  {
   "cell_type": "markdown",
   "metadata": {
    "id": "PrycPtIx7b1t"
   },
   "source": [
    "As a result (if we train on full data) we will have:\n",
    "\n",
    "**Public** score = 0.85957\n",
    "\n",
    "**Private** score = 0.86458"
   ]
  },
  {
   "cell_type": "markdown",
   "metadata": {
    "id": "ApxynnVVi34b"
   },
   "source": [
    "**Task:** Try to improve results on current small data using different hyperparameters, models (Bagging, Random Forest, XGB, Log.reg), selecting optimal features and etc. At home you can try all this stuff on full data and create your own submission to Kaggle!"
   ]
  }
 ],
 "metadata": {
  "colab": {
   "provenance": []
  },
  "kernelspec": {
   "display_name": "Python 3 (ipykernel)",
   "language": "python",
   "name": "python3"
  },
  "language_info": {
   "codemirror_mode": {
    "name": "ipython",
    "version": 3
   },
   "file_extension": ".py",
   "mimetype": "text/x-python",
   "name": "python",
   "nbconvert_exporter": "python",
   "pygments_lexer": "ipython3",
   "version": "3.10.6"
  }
 },
 "nbformat": 4,
 "nbformat_minor": 1
}
